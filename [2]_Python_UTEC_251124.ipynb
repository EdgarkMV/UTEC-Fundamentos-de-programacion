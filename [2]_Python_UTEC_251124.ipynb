{
  "nbformat": 4,
  "nbformat_minor": 0,
  "metadata": {
    "colab": {
      "provenance": [],
      "toc_visible": true,
      "include_colab_link": true
    },
    "kernelspec": {
      "name": "python3",
      "display_name": "Python 3"
    },
    "language_info": {
      "name": "python"
    }
  },
  "cells": [
    {
      "cell_type": "markdown",
      "metadata": {
        "id": "view-in-github",
        "colab_type": "text"
      },
      "source": [
        "<a href=\"https://colab.research.google.com/github/EdgarkMV/UTEC-Fundamentos-de-programacion/blob/main/%5B2%5D_Python_UTEC_251124.ipynb\" target=\"_parent\"><img src=\"https://colab.research.google.com/assets/colab-badge.svg\" alt=\"Open In Colab\"/></a>"
      ]
    },
    {
      "cell_type": "markdown",
      "source": [
        "# Listas"
      ],
      "metadata": {
        "id": "kgxLa1nnL9mg"
      }
    },
    {
      "cell_type": "markdown",
      "source": [
        "## Crear listas e identificar los tipos de listas"
      ],
      "metadata": {
        "id": "iVvjZRL9MIzV"
      }
    },
    {
      "cell_type": "code",
      "execution_count": null,
      "metadata": {
        "id": "016n8dvMLwDu"
      },
      "outputs": [],
      "source": [
        "# Listas homogéneas\n",
        "\n",
        "numeros = [1,2,3,4]"
      ]
    },
    {
      "cell_type": "code",
      "source": [
        "letras = [\"a\",\"b\",\"c\",\"d\",\"e\",\"f\"]"
      ],
      "metadata": {
        "id": "eRayCmfAMjF3"
      },
      "execution_count": null,
      "outputs": []
    },
    {
      "cell_type": "code",
      "source": [
        "print(f\"El objeto {numeros} es del tipo {type(numeros)}\")"
      ],
      "metadata": {
        "colab": {
          "base_uri": "https://localhost:8080/"
        },
        "id": "wgqTrakuMxNt",
        "outputId": "6cec9a10-af93-4a38-8c49-5584b8aff784"
      },
      "execution_count": null,
      "outputs": [
        {
          "output_type": "stream",
          "name": "stdout",
          "text": [
            "El objeto [1, 2, 3, 4] es del tipo <class 'list'>\n"
          ]
        }
      ]
    },
    {
      "cell_type": "code",
      "source": [
        "print(f\"El objeto {letras} es del tipo {type(letras)}\")"
      ],
      "metadata": {
        "colab": {
          "base_uri": "https://localhost:8080/"
        },
        "id": "Ud5-cyAJNL-L",
        "outputId": "dad5b439-c4fc-466a-c3bc-ba8877a130db"
      },
      "execution_count": null,
      "outputs": [
        {
          "output_type": "stream",
          "name": "stdout",
          "text": [
            "El objeto ['a', 'b', 'c', 'd', 'e', 'f'] es del tipo <class 'list'>\n"
          ]
        }
      ]
    },
    {
      "cell_type": "code",
      "source": [
        "# Listas heterogéneas\n",
        "\n",
        "datos = [4,\"Jorge\",-15.5,\"UTEC\",True]"
      ],
      "metadata": {
        "id": "lkuml3PNNTCE"
      },
      "execution_count": null,
      "outputs": []
    },
    {
      "cell_type": "code",
      "source": [
        "print(f\"El objeto {datos} es del tipo {type(datos)}\")"
      ],
      "metadata": {
        "colab": {
          "base_uri": "https://localhost:8080/"
        },
        "id": "t5wncZYmN-bU",
        "outputId": "e9834149-417a-4c19-a2c2-2f5edec37c91"
      },
      "execution_count": null,
      "outputs": [
        {
          "output_type": "stream",
          "name": "stdout",
          "text": [
            "El objeto [4, 'Jorge', -15.5, 'UTEC', True] es del tipo <class 'list'>\n"
          ]
        }
      ]
    },
    {
      "cell_type": "code",
      "source": [
        "%whos"
      ],
      "metadata": {
        "colab": {
          "base_uri": "https://localhost:8080/"
        },
        "id": "JMzbT6veOAfK",
        "outputId": "d85af18d-3a45-4876-85f1-9e24c794cfe8"
      },
      "execution_count": null,
      "outputs": [
        {
          "output_type": "stream",
          "name": "stdout",
          "text": [
            "Variable   Type    Data/Info\n",
            "----------------------------\n",
            "datos      list    n=5\n",
            "letras     list    n=6\n",
            "numeros    list    n=4\n"
          ]
        }
      ]
    },
    {
      "cell_type": "markdown",
      "source": [
        "## Acceder a los elementos de las listas"
      ],
      "metadata": {
        "id": "QGyMD-ghOVnD"
      }
    },
    {
      "cell_type": "code",
      "source": [
        "print(f\"La lista {datos}\")"
      ],
      "metadata": {
        "colab": {
          "base_uri": "https://localhost:8080/"
        },
        "id": "_43JwrFKOLfS",
        "outputId": "d18264bb-0109-4ef7-89a6-c0a376aa37af"
      },
      "execution_count": null,
      "outputs": [
        {
          "output_type": "stream",
          "name": "stdout",
          "text": [
            "La lista [4, 'Jorge', -15.5, 'UTEC', True]\n"
          ]
        }
      ]
    },
    {
      "cell_type": "code",
      "source": [
        "print(f\"El elemento ubicado en el índice 3 de la lista es {datos[3]}\")"
      ],
      "metadata": {
        "colab": {
          "base_uri": "https://localhost:8080/"
        },
        "id": "3h7zL-1AOmQm",
        "outputId": "5f819e96-84df-40fe-a75d-04683638bec0"
      },
      "execution_count": null,
      "outputs": [
        {
          "output_type": "stream",
          "name": "stdout",
          "text": [
            "El elemento ubicado en el índice 3 de la lista es UTEC\n"
          ]
        }
      ]
    },
    {
      "cell_type": "code",
      "source": [
        "print(f\"El elemento ubicado en el índice 4 de la lista es {datos[4]}\")"
      ],
      "metadata": {
        "colab": {
          "base_uri": "https://localhost:8080/"
        },
        "id": "AQJs4ry7PlAH",
        "outputId": "cf2712e6-47db-44f5-bb23-d5ee56e3ae26"
      },
      "execution_count": null,
      "outputs": [
        {
          "output_type": "stream",
          "name": "stdout",
          "text": [
            "El elemento ubicado en el índice 4 de la lista es True\n"
          ]
        }
      ]
    },
    {
      "cell_type": "code",
      "source": [
        "print(f\"El último elemento de la lista es {datos[-1]}\")"
      ],
      "metadata": {
        "colab": {
          "base_uri": "https://localhost:8080/"
        },
        "id": "RudZOpWQQL--",
        "outputId": "d3da7280-1b8f-49a9-dc8c-678489357abf"
      },
      "execution_count": null,
      "outputs": [
        {
          "output_type": "stream",
          "name": "stdout",
          "text": [
            "El último elemento de la lista es True\n"
          ]
        }
      ]
    },
    {
      "cell_type": "code",
      "source": [
        "print(f\"Los primeros elementos de la lista son {datos[0:3]}\")"
      ],
      "metadata": {
        "colab": {
          "base_uri": "https://localhost:8080/"
        },
        "id": "9JRlM7BZQv-X",
        "outputId": "b9be1446-e7f7-4f48-d16d-cfedca2f8301"
      },
      "execution_count": null,
      "outputs": [
        {
          "output_type": "stream",
          "name": "stdout",
          "text": [
            "Los primeros elementos de la lista son [4, 'Jorge', -15.5]\n"
          ]
        }
      ]
    },
    {
      "cell_type": "code",
      "source": [
        "print(f\"Los primeros elementos de la lista son {datos[:3]}\")"
      ],
      "metadata": {
        "colab": {
          "base_uri": "https://localhost:8080/"
        },
        "id": "pcs4SirPRtbv",
        "outputId": "f4ec71f6-2f3f-40b7-d400-31e34e95e609"
      },
      "execution_count": null,
      "outputs": [
        {
          "output_type": "stream",
          "name": "stdout",
          "text": [
            "Los primeros elementos de la lista son [4, 'Jorge', -15.5]\n"
          ]
        }
      ]
    },
    {
      "cell_type": "code",
      "source": [
        "# Mostrar todos los elementos de la lista letras\n",
        "# Mostrar el cuarto, quinto y sexto elemento de la lista letras"
      ],
      "metadata": {
        "id": "-GX1s7V4SDoy"
      },
      "execution_count": null,
      "outputs": []
    },
    {
      "cell_type": "code",
      "source": [
        "#Mostrar todos los elementos de la lista letras\n",
        "print(f\"Los elementos de la lista son:\\n {letras[:]}\")\n",
        "#Mostrar el cuarto, quinto y sexto elemento de la lista\n",
        "print(f\"Los elementos seleccionados de la lista son:\\n {letras[3:6]}\")"
      ],
      "metadata": {
        "colab": {
          "base_uri": "https://localhost:8080/"
        },
        "id": "m6yYK99iTJej",
        "outputId": "44d74caa-58f6-4f19-c3b4-34f2225bf10f"
      },
      "execution_count": null,
      "outputs": [
        {
          "output_type": "stream",
          "name": "stdout",
          "text": [
            "Los elementos de la lista son:\n",
            " ['a', 'b', 'c', 'd', 'e', 'f']\n",
            "Los elementos seleccionados de la lista son:\n",
            " ['d', 'e', 'f']\n"
          ]
        }
      ]
    },
    {
      "cell_type": "code",
      "source": [
        "#Mostrar el cuarto, quinto y sexto elemento de la lista\n",
        "print(f\"Los elementos seleccionados de la lista son:\\n {letras[3:]}\")"
      ],
      "metadata": {
        "colab": {
          "base_uri": "https://localhost:8080/"
        },
        "id": "9tJgrTT_ThKu",
        "outputId": "d66d5182-69c6-4f5a-f41e-a6b3579103b7"
      },
      "execution_count": null,
      "outputs": [
        {
          "output_type": "stream",
          "name": "stdout",
          "text": [
            "Los elementos seleccionados de la lista son:\n",
            " ['d', 'e', 'f']\n"
          ]
        }
      ]
    },
    {
      "cell_type": "code",
      "source": [
        "print(f\"Los elementos seleccionados de la lista son:\\n {letras[2:4]}\")"
      ],
      "metadata": {
        "colab": {
          "base_uri": "https://localhost:8080/"
        },
        "id": "pDvhWDJCWKPC",
        "outputId": "306eef58-cd08-4d46-96b4-d232af5cc113"
      },
      "execution_count": null,
      "outputs": [
        {
          "output_type": "stream",
          "name": "stdout",
          "text": [
            "Los elementos seleccionados de la lista son:\n",
            " ['c', 'd']\n"
          ]
        }
      ]
    },
    {
      "cell_type": "markdown",
      "source": [
        "## Insertar elemenos en una lista"
      ],
      "metadata": {
        "id": "i1_S_JH3W03N"
      }
    },
    {
      "cell_type": "code",
      "source": [
        "pares = [0,2,4,6,8,10] # lista homogénea"
      ],
      "metadata": {
        "id": "N44yWifoWth-"
      },
      "execution_count": null,
      "outputs": []
    },
    {
      "cell_type": "code",
      "source": [
        "type(pares)"
      ],
      "metadata": {
        "colab": {
          "base_uri": "https://localhost:8080/"
        },
        "id": "KX1qQun1XKL_",
        "outputId": "768f47b4-d384-492a-ca02-33a15e69127c"
      },
      "execution_count": null,
      "outputs": [
        {
          "output_type": "execute_result",
          "data": {
            "text/plain": [
              "list"
            ]
          },
          "metadata": {},
          "execution_count": 19
        }
      ]
    },
    {
      "cell_type": "code",
      "source": [
        "# Insertar un elemento al final de la lista\n",
        "pares.append(12)"
      ],
      "metadata": {
        "id": "v88EYqYIXLka"
      },
      "execution_count": null,
      "outputs": []
    },
    {
      "cell_type": "code",
      "source": [
        "print(f\"La lista actualizada es \\n{pares}\")"
      ],
      "metadata": {
        "colab": {
          "base_uri": "https://localhost:8080/"
        },
        "id": "01KP1c38X1Xy",
        "outputId": "d0814cf9-5b00-46c5-d6f7-15903150992c"
      },
      "execution_count": null,
      "outputs": [
        {
          "output_type": "stream",
          "name": "stdout",
          "text": [
            "La lista actualizada es \n",
            "[0, 2, 4, 6, 8, 10, 12]\n"
          ]
        }
      ]
    },
    {
      "cell_type": "code",
      "source": [
        "pares.insert(1,100) # insertar elementos en un determinado índice"
      ],
      "metadata": {
        "id": "ubgAnikrYCV-"
      },
      "execution_count": null,
      "outputs": []
    },
    {
      "cell_type": "code",
      "source": [
        "print(f\"La lista actualizada es \\n{pares}\")"
      ],
      "metadata": {
        "colab": {
          "base_uri": "https://localhost:8080/"
        },
        "id": "xf6wiYdpZMZL",
        "outputId": "70187804-3bbe-4f5b-de43-ebca7b9335a2"
      },
      "execution_count": null,
      "outputs": [
        {
          "output_type": "stream",
          "name": "stdout",
          "text": [
            "La lista actualizada es \n",
            "[0, 100, 2, 4, 6, 8, 10, 12]\n"
          ]
        }
      ]
    },
    {
      "cell_type": "code",
      "source": [
        "print(f\"La lista letras tiene los siguientes elementos \\n{letras}\")"
      ],
      "metadata": {
        "colab": {
          "base_uri": "https://localhost:8080/"
        },
        "id": "L-iQbNAKZQGq",
        "outputId": "c8f123d1-1e4a-431f-9584-cbb0ce8e2703"
      },
      "execution_count": null,
      "outputs": [
        {
          "output_type": "stream",
          "name": "stdout",
          "text": [
            "La lista letras tiene los siguientes elementos \n",
            "['a', 'b', 'c', 'd', 'e', 'f']\n"
          ]
        }
      ]
    },
    {
      "cell_type": "code",
      "source": [
        "letras.insert(-1,\"AAA\")\n",
        "print(f\"La lista actualizada \\n{letras}\")"
      ],
      "metadata": {
        "colab": {
          "base_uri": "https://localhost:8080/"
        },
        "id": "YKrewjG-Zs6R",
        "outputId": "7b7ae402-6595-4f13-ebd1-9e4a111347da"
      },
      "execution_count": null,
      "outputs": [
        {
          "output_type": "stream",
          "name": "stdout",
          "text": [
            "La lista actualizada \n",
            "['a', 'b', 'c', 'd', 'e', 'AAA', 'f']\n"
          ]
        }
      ]
    },
    {
      "cell_type": "code",
      "source": [
        "letras.insert(9,\"X\")\n",
        "print(f\"La lista actualizada \\n{letras}\")"
      ],
      "metadata": {
        "colab": {
          "base_uri": "https://localhost:8080/"
        },
        "id": "8NtaR8uYamVy",
        "outputId": "810b4b40-368f-46d4-b5aa-6baf13489c5c"
      },
      "execution_count": null,
      "outputs": [
        {
          "output_type": "stream",
          "name": "stdout",
          "text": [
            "La lista actualizada \n",
            "['a', 'b', 'c', 'd', 'e', 'AAA', 'f', 'X']\n"
          ]
        }
      ]
    },
    {
      "cell_type": "code",
      "source": [
        "letras[7]"
      ],
      "metadata": {
        "colab": {
          "base_uri": "https://localhost:8080/",
          "height": 35
        },
        "id": "IirG99rTbFMG",
        "outputId": "d9ffec17-24b2-4027-c903-2f0986ab381e"
      },
      "execution_count": null,
      "outputs": [
        {
          "output_type": "execute_result",
          "data": {
            "text/plain": [
              "'X'"
            ],
            "application/vnd.google.colaboratory.intrinsic+json": {
              "type": "string"
            }
          },
          "metadata": {},
          "execution_count": 27
        }
      ]
    },
    {
      "cell_type": "markdown",
      "source": [
        "## Las listas son mutables"
      ],
      "metadata": {
        "id": "xe-j09dgfbgl"
      }
    },
    {
      "cell_type": "code",
      "source": [
        "print(f\"Los elementos de la lista letras son \\n{letras[:]}\")"
      ],
      "metadata": {
        "colab": {
          "base_uri": "https://localhost:8080/"
        },
        "id": "PhBEqiwQbckK",
        "outputId": "ae0e64d1-a8b1-4885-c821-b1b10bb3570d"
      },
      "execution_count": null,
      "outputs": [
        {
          "output_type": "stream",
          "name": "stdout",
          "text": [
            "Los elementos de la lista letras son \n",
            "['a', 'b', 'c', 'd', 'e', 'AAA', 'f', 'X']\n"
          ]
        }
      ]
    },
    {
      "cell_type": "code",
      "source": [
        "# Acceder a los primeros 3 elementos\n",
        "print(f\"Los primeros tres elementos de la lista letras son \\n{letras[:3]}\")"
      ],
      "metadata": {
        "colab": {
          "base_uri": "https://localhost:8080/"
        },
        "id": "UbbmZ19wfj5y",
        "outputId": "4952e45a-0bf3-4c05-8907-4a5463ec77b7"
      },
      "execution_count": null,
      "outputs": [
        {
          "output_type": "stream",
          "name": "stdout",
          "text": [
            "Los primeros tres elementos de la lista letras son \n",
            "['a', 'b', 'c']\n"
          ]
        }
      ]
    },
    {
      "cell_type": "code",
      "source": [
        "# Acceder a los primeros 3 elementos\n",
        "print(f\"Los primeros tres elementos de la lista letras son \\n{letras[0:3]}\")"
      ],
      "metadata": {
        "colab": {
          "base_uri": "https://localhost:8080/"
        },
        "id": "ABAp23aIgv7x",
        "outputId": "e5b2b68c-d0e6-49d5-d7b7-6d9bd66643ca"
      },
      "execution_count": null,
      "outputs": [
        {
          "output_type": "stream",
          "name": "stdout",
          "text": [
            "Los primeros tres elementos de la lista letras son \n",
            "['a', 'b', 'c']\n"
          ]
        }
      ]
    },
    {
      "cell_type": "code",
      "source": [
        "letras[:3] = [\"A\",\"B\",\"C\"]\n",
        "print(f\"La lista actualizada es \\n{letras}\")"
      ],
      "metadata": {
        "colab": {
          "base_uri": "https://localhost:8080/"
        },
        "id": "sSRBMuH9gzj0",
        "outputId": "c2504b99-a404-4383-bba8-624d6d79f63b"
      },
      "execution_count": null,
      "outputs": [
        {
          "output_type": "stream",
          "name": "stdout",
          "text": [
            "La lista actualizada es \n",
            "['A', 'B', 'C', 'd', 'e', 'AAA', 'f', 'X']\n"
          ]
        }
      ]
    },
    {
      "cell_type": "code",
      "source": [
        "letras[:3] = []\n",
        "print(f\"La lista actualizada es \\n{letras}\")"
      ],
      "metadata": {
        "colab": {
          "base_uri": "https://localhost:8080/"
        },
        "id": "nsWXy7r7hG0U",
        "outputId": "b80b0385-adb2-4f8d-fbb7-193f4d4cd2c7"
      },
      "execution_count": null,
      "outputs": [
        {
          "output_type": "stream",
          "name": "stdout",
          "text": [
            "La lista actualizada es \n",
            "['d', 'e', 'AAA', 'f', 'X']\n"
          ]
        }
      ]
    },
    {
      "cell_type": "markdown",
      "source": [
        "## Eliminar elementos de una lista"
      ],
      "metadata": {
        "id": "DTaWCtQ5hyNZ"
      }
    },
    {
      "cell_type": "code",
      "source": [
        "print(f\"La lista inicial es \\n{letras}\")\n",
        "elemento = letras.pop(2)\n",
        "print(f\"La lista actualizada es \\n{letras}\")\n",
        "print(f\"El elemento eliminado de la lista es {elemento}\")"
      ],
      "metadata": {
        "colab": {
          "base_uri": "https://localhost:8080/"
        },
        "id": "c9Rcb6a7hj9b",
        "outputId": "8bef4505-04e1-4fc8-8eaa-beb45530b857"
      },
      "execution_count": null,
      "outputs": [
        {
          "output_type": "stream",
          "name": "stdout",
          "text": [
            "La lista inicial es \n",
            "['d', 'e', 'AAA', 'f', 'X']\n",
            "La lista actualizada es \n",
            "['d', 'e', 'f', 'X']\n",
            "El elemento eliminado de la lista es AAA\n"
          ]
        }
      ]
    },
    {
      "cell_type": "code",
      "source": [
        "print(f\"La lista inicial es \\n{pares}\")\n",
        "pares.remove(100)\n",
        "print(f\"La lista actualizada es \\n{pares}\")"
      ],
      "metadata": {
        "colab": {
          "base_uri": "https://localhost:8080/"
        },
        "id": "1tsFnKUYjAlM",
        "outputId": "f89a40d2-03df-45de-a21d-5ffdb6a8710c"
      },
      "execution_count": null,
      "outputs": [
        {
          "output_type": "stream",
          "name": "stdout",
          "text": [
            "La lista inicial es \n",
            "[0, 100, 2, 4, 6, 8, 10, 12]\n",
            "La lista actualizada es \n",
            "[0, 2, 4, 6, 8, 10, 12]\n"
          ]
        }
      ]
    },
    {
      "cell_type": "code",
      "source": [
        "pares.append(12)\n",
        "print(f\"La lista actualizada es \\n{pares}\")"
      ],
      "metadata": {
        "colab": {
          "base_uri": "https://localhost:8080/"
        },
        "id": "y5wIhUKvjUQp",
        "outputId": "55eac8c5-20e7-47c3-ee97-dc55904f2480"
      },
      "execution_count": null,
      "outputs": [
        {
          "output_type": "stream",
          "name": "stdout",
          "text": [
            "La lista actualizada es \n",
            "[0, 2, 4, 6, 8, 10, 12, 12]\n"
          ]
        }
      ]
    },
    {
      "cell_type": "code",
      "source": [
        "pares.remove(12)\n",
        "print(f\"La lista actualizada es \\n{pares}\")"
      ],
      "metadata": {
        "colab": {
          "base_uri": "https://localhost:8080/"
        },
        "id": "XfpLlimLkLK9",
        "outputId": "669468d9-3dcc-4536-cc90-b56005496e6f"
      },
      "execution_count": null,
      "outputs": [
        {
          "output_type": "stream",
          "name": "stdout",
          "text": [
            "La lista actualizada es \n",
            "[0, 2, 4, 6, 8, 10, 12]\n"
          ]
        }
      ]
    },
    {
      "cell_type": "code",
      "source": [
        "print(f\"La lista inicial es \\n{pares}\")\n",
        "del pares[4:]\n",
        "print(f\"La lista actualizada es \\n{pares}\")"
      ],
      "metadata": {
        "colab": {
          "base_uri": "https://localhost:8080/"
        },
        "id": "xCthRWfYkS6G",
        "outputId": "d33afacb-32c2-4ef7-de63-05868abf1665"
      },
      "execution_count": null,
      "outputs": [
        {
          "output_type": "stream",
          "name": "stdout",
          "text": [
            "La lista inicial es \n",
            "[0, 2, 4, 6, 8, 10, 12]\n",
            "La lista actualizada es \n",
            "[0, 2, 4, 6]\n"
          ]
        }
      ]
    },
    {
      "cell_type": "code",
      "source": [
        "%whos"
      ],
      "metadata": {
        "colab": {
          "base_uri": "https://localhost:8080/"
        },
        "id": "ERZ-5xpIlFgp",
        "outputId": "d0317a4e-81cd-424c-e150-7e5210810ea4"
      },
      "execution_count": null,
      "outputs": [
        {
          "output_type": "stream",
          "name": "stdout",
          "text": [
            "Variable   Type    Data/Info\n",
            "----------------------------\n",
            "datos      list    n=5\n",
            "elemento   str     AAA\n",
            "letras     list    n=4\n",
            "numeros    list    n=4\n",
            "pares      list    n=4\n"
          ]
        }
      ]
    },
    {
      "cell_type": "markdown",
      "source": [
        "## Ordenar los elementos de una lista\n",
        "\n",
        "1.   Elemento de lista\n",
        "2.   Elemento de lista\n",
        "\n"
      ],
      "metadata": {
        "id": "7zfEZNpclvhu"
      }
    },
    {
      "cell_type": "code",
      "source": [
        "lista_0 = [10, 100, 1, 50, 23, 120, 1000, 3, 25]\n",
        "print(f\"La lista tiene los elementos \\n{lista_0}\")"
      ],
      "metadata": {
        "colab": {
          "base_uri": "https://localhost:8080/"
        },
        "id": "FsYGw7dklqfX",
        "outputId": "db601988-0875-4f99-df63-0f5c0b385dbe"
      },
      "execution_count": null,
      "outputs": [
        {
          "output_type": "stream",
          "name": "stdout",
          "text": [
            "La lista tiene los elementos \n",
            "[10, 100, 1, 50, 23, 120, 1000, 3, 25]\n"
          ]
        }
      ]
    },
    {
      "cell_type": "code",
      "source": [
        "print(f\"La lista tiene los elementos \\n{lista_0}\")\n",
        "lista_0.sort()\n",
        "print(f\"\\nLa lista ordenada tiene los elementos \\n{lista_0}\")"
      ],
      "metadata": {
        "colab": {
          "base_uri": "https://localhost:8080/"
        },
        "id": "FH9upuKilsxK",
        "outputId": "69d72e57-65e8-4e6b-8531-6fc4228a57ef"
      },
      "execution_count": null,
      "outputs": [
        {
          "output_type": "stream",
          "name": "stdout",
          "text": [
            "La lista tiene los elementos \n",
            "[10, 100, 1, 50, 23, 120, 1000, 3, 25]\n",
            "\n",
            "La lista ordenada tiene los elementos \n",
            "[1, 3, 10, 23, 25, 50, 100, 120, 1000]\n"
          ]
        }
      ]
    },
    {
      "cell_type": "code",
      "source": [
        "lista_0 = [10, 100, 1, 50, 23, 120, 1000, 3, 25]\n",
        "print(f\"La lista tiene los elementos \\n{lista_0}\")\n",
        "lista_0.sort(reverse=True)\n",
        "print(f\"\\nLa lista ordenada (descendente) tiene los elementos \\n{lista_0}\")"
      ],
      "metadata": {
        "colab": {
          "base_uri": "https://localhost:8080/"
        },
        "id": "1abrXa_2mU32",
        "outputId": "f2e45e48-c693-4ef7-f826-393ecfd8b371"
      },
      "execution_count": null,
      "outputs": [
        {
          "output_type": "stream",
          "name": "stdout",
          "text": [
            "La lista tiene los elementos \n",
            "[10, 100, 1, 50, 23, 120, 1000, 3, 25]\n",
            "\n",
            "La lista ordenada (descendente) tiene los elementos \n",
            "[1000, 120, 100, 50, 25, 23, 10, 3, 1]\n"
          ]
        }
      ]
    },
    {
      "cell_type": "code",
      "source": [
        "print(f\"El último elemento de la lista es {lista_0[-1]}\")"
      ],
      "metadata": {
        "colab": {
          "base_uri": "https://localhost:8080/"
        },
        "id": "booZAGmmm7hv",
        "outputId": "e8c819f5-def8-4bab-985e-9a69d6972c31"
      },
      "execution_count": null,
      "outputs": [
        {
          "output_type": "stream",
          "name": "stdout",
          "text": [
            "El último elemento de la lista es 1\n"
          ]
        }
      ]
    },
    {
      "cell_type": "markdown",
      "source": [
        "## Buscar elementos en una lista"
      ],
      "metadata": {
        "id": "TuYynzRYngYs"
      }
    },
    {
      "cell_type": "code",
      "source": [
        "print(f\"Los elmentos de la lista son \\n{lista_0}\")"
      ],
      "metadata": {
        "colab": {
          "base_uri": "https://localhost:8080/"
        },
        "id": "s5mLemB9nMBV",
        "outputId": "32ffea2d-119d-46a8-8874-9f6269cb96e5"
      },
      "execution_count": null,
      "outputs": [
        {
          "output_type": "stream",
          "name": "stdout",
          "text": [
            "Los elmentos de la lista son \n",
            "[1000, 120, 100, 50, 25, 23, 10, 3, 1]\n"
          ]
        }
      ]
    },
    {
      "cell_type": "code",
      "source": [
        "100 in lista_0"
      ],
      "metadata": {
        "colab": {
          "base_uri": "https://localhost:8080/"
        },
        "id": "1bzc2rOnnp9F",
        "outputId": "12291cd7-8a6a-493b-a82f-c182c6dad254"
      },
      "execution_count": null,
      "outputs": [
        {
          "output_type": "execute_result",
          "data": {
            "text/plain": [
              "True"
            ]
          },
          "metadata": {},
          "execution_count": 44
        }
      ]
    },
    {
      "cell_type": "code",
      "source": [
        "190 in lista_0"
      ],
      "metadata": {
        "colab": {
          "base_uri": "https://localhost:8080/"
        },
        "id": "x3VcfM-Snviz",
        "outputId": "fb283baa-ee8d-4828-b7c3-1770ec480226"
      },
      "execution_count": null,
      "outputs": [
        {
          "output_type": "execute_result",
          "data": {
            "text/plain": [
              "False"
            ]
          },
          "metadata": {},
          "execution_count": 45
        }
      ]
    },
    {
      "cell_type": "code",
      "source": [
        "print(f\"El elemento 1000 está en el índice {lista_0.index(1000)}\")"
      ],
      "metadata": {
        "colab": {
          "base_uri": "https://localhost:8080/"
        },
        "id": "KNxpNRWlnzFe",
        "outputId": "fbed89af-251b-45a1-fe75-1e60a8b12e16"
      },
      "execution_count": null,
      "outputs": [
        {
          "output_type": "stream",
          "name": "stdout",
          "text": [
            "El elemento 1000 está en el índice 0\n"
          ]
        }
      ]
    },
    {
      "cell_type": "code",
      "source": [
        "lista_0.index(1000,0)"
      ],
      "metadata": {
        "colab": {
          "base_uri": "https://localhost:8080/"
        },
        "id": "HYvxug23oLxj",
        "outputId": "559037c1-98a5-4448-a4ca-6b4b30258a22"
      },
      "execution_count": null,
      "outputs": [
        {
          "output_type": "execute_result",
          "data": {
            "text/plain": [
              "0"
            ]
          },
          "metadata": {},
          "execution_count": 47
        }
      ]
    },
    {
      "cell_type": "code",
      "source": [
        "lista_0.index(1000,3)"
      ],
      "metadata": {
        "colab": {
          "base_uri": "https://localhost:8080/",
          "height": 141
        },
        "id": "bJUszH0No9Dv",
        "outputId": "543b7cc7-eb98-40af-ec19-787143bebb10"
      },
      "execution_count": null,
      "outputs": [
        {
          "output_type": "error",
          "ename": "ValueError",
          "evalue": "1000 is not in list",
          "traceback": [
            "\u001b[0;31m---------------------------------------------------------------------------\u001b[0m",
            "\u001b[0;31mValueError\u001b[0m                                Traceback (most recent call last)",
            "\u001b[0;32m<ipython-input-49-b76545b00adb>\u001b[0m in \u001b[0;36m<cell line: 1>\u001b[0;34m()\u001b[0m\n\u001b[0;32m----> 1\u001b[0;31m \u001b[0mlista_0\u001b[0m\u001b[0;34m.\u001b[0m\u001b[0mindex\u001b[0m\u001b[0;34m(\u001b[0m\u001b[0;36m1000\u001b[0m\u001b[0;34m,\u001b[0m\u001b[0;36m3\u001b[0m\u001b[0;34m)\u001b[0m\u001b[0;34m\u001b[0m\u001b[0;34m\u001b[0m\u001b[0m\n\u001b[0m",
            "\u001b[0;31mValueError\u001b[0m: 1000 is not in list"
          ]
        }
      ]
    },
    {
      "cell_type": "code",
      "source": [
        "lista_0.index(1000,1,6)"
      ],
      "metadata": {
        "colab": {
          "base_uri": "https://localhost:8080/",
          "height": 141
        },
        "id": "06vNxQrrpAb_",
        "outputId": "b598f936-7861-4661-e2f2-04a544aa744b"
      },
      "execution_count": null,
      "outputs": [
        {
          "output_type": "error",
          "ename": "ValueError",
          "evalue": "1000 is not in list",
          "traceback": [
            "\u001b[0;31m---------------------------------------------------------------------------\u001b[0m",
            "\u001b[0;31mValueError\u001b[0m                                Traceback (most recent call last)",
            "\u001b[0;32m<ipython-input-51-2fef7fc97f8d>\u001b[0m in \u001b[0;36m<cell line: 1>\u001b[0;34m()\u001b[0m\n\u001b[0;32m----> 1\u001b[0;31m \u001b[0mlista_0\u001b[0m\u001b[0;34m.\u001b[0m\u001b[0mindex\u001b[0m\u001b[0;34m(\u001b[0m\u001b[0;36m1000\u001b[0m\u001b[0;34m,\u001b[0m\u001b[0;36m1\u001b[0m\u001b[0;34m,\u001b[0m\u001b[0;36m6\u001b[0m\u001b[0;34m)\u001b[0m\u001b[0;34m\u001b[0m\u001b[0;34m\u001b[0m\u001b[0m\n\u001b[0m",
            "\u001b[0;31mValueError\u001b[0m: 1000 is not in list"
          ]
        }
      ]
    },
    {
      "cell_type": "code",
      "source": [
        "lista_0.index(50,1,6)"
      ],
      "metadata": {
        "colab": {
          "base_uri": "https://localhost:8080/"
        },
        "id": "jyhwHg8FpOqM",
        "outputId": "fa1e57c1-8f6b-4a93-eb82-cf55ce259636"
      },
      "execution_count": null,
      "outputs": [
        {
          "output_type": "execute_result",
          "data": {
            "text/plain": [
              "3"
            ]
          },
          "metadata": {},
          "execution_count": 52
        }
      ]
    },
    {
      "cell_type": "code",
      "source": [
        "lista_0.index(10,1,6)"
      ],
      "metadata": {
        "colab": {
          "base_uri": "https://localhost:8080/",
          "height": 141
        },
        "id": "ALJPyDoDpXd2",
        "outputId": "e093707f-7cc3-4196-d304-14aa028e859f"
      },
      "execution_count": null,
      "outputs": [
        {
          "output_type": "error",
          "ename": "ValueError",
          "evalue": "10 is not in list",
          "traceback": [
            "\u001b[0;31m---------------------------------------------------------------------------\u001b[0m",
            "\u001b[0;31mValueError\u001b[0m                                Traceback (most recent call last)",
            "\u001b[0;32m<ipython-input-54-39938f902f12>\u001b[0m in \u001b[0;36m<cell line: 1>\u001b[0;34m()\u001b[0m\n\u001b[0;32m----> 1\u001b[0;31m \u001b[0mlista_0\u001b[0m\u001b[0;34m.\u001b[0m\u001b[0mindex\u001b[0m\u001b[0;34m(\u001b[0m\u001b[0;36m10\u001b[0m\u001b[0;34m,\u001b[0m\u001b[0;36m1\u001b[0m\u001b[0;34m,\u001b[0m\u001b[0;36m6\u001b[0m\u001b[0;34m)\u001b[0m\u001b[0;34m\u001b[0m\u001b[0;34m\u001b[0m\u001b[0m\n\u001b[0m",
            "\u001b[0;31mValueError\u001b[0m: 10 is not in list"
          ]
        }
      ]
    },
    {
      "cell_type": "code",
      "source": [
        "lista_0.index(10,1,7)"
      ],
      "metadata": {
        "colab": {
          "base_uri": "https://localhost:8080/"
        },
        "id": "JFjBvbeApcJU",
        "outputId": "c6c78719-26d7-4cba-9ed0-2be138adfe83"
      },
      "execution_count": null,
      "outputs": [
        {
          "output_type": "execute_result",
          "data": {
            "text/plain": [
              "6"
            ]
          },
          "metadata": {},
          "execution_count": 55
        }
      ]
    },
    {
      "cell_type": "markdown",
      "source": [
        "## Concatenar listas"
      ],
      "metadata": {
        "id": "4DPn-9fL6dtA"
      }
    },
    {
      "cell_type": "code",
      "source": [
        "marcas_favoritas = [\"apple\",\"hp\",\"ferrari\"]\n",
        "marcas_complementarias = [\"dell\",\"toyota\",\"coca_cola\"]\n",
        "print(f\"Mis marcas favoritas son \\n{marcas_favoritas}\")\n",
        "print(f\"\\nMis marcas complementarias son \\n{marcas_complementarias}\")"
      ],
      "metadata": {
        "id": "EjoCoi7cptfO",
        "outputId": "09ef3515-84db-4bed-c00d-8605b3ba0b5f",
        "colab": {
          "base_uri": "https://localhost:8080/"
        }
      },
      "execution_count": 4,
      "outputs": [
        {
          "output_type": "stream",
          "name": "stdout",
          "text": [
            "Mis marcas favoritas son \n",
            "['apple', 'hp', 'ferrari']\n",
            "\n",
            "Mis marcas complementarias son \n",
            "['dell', 'toyota', 'coca_cola']\n"
          ]
        }
      ]
    },
    {
      "cell_type": "code",
      "source": [
        "%whos"
      ],
      "metadata": {
        "id": "qfOZbFl37MYH",
        "outputId": "244693f0-9210-4fb1-bca6-af75c6635799",
        "colab": {
          "base_uri": "https://localhost:8080/"
        }
      },
      "execution_count": 5,
      "outputs": [
        {
          "output_type": "stream",
          "name": "stdout",
          "text": [
            "Variable                 Type    Data/Info\n",
            "------------------------------------------\n",
            "marcas_complementarias   list    n=3\n",
            "marcas_favoritas         list    n=3\n"
          ]
        }
      ]
    },
    {
      "cell_type": "code",
      "source": [
        "# El símbolo \"+\" me sirve para concatenar listas\n",
        "print(f\"Mi lista de marcas son \\n{marcas_favoritas + marcas_complementarias}\")\n",
        "print(f\"\\nMis marcas favoritas son \\n{marcas_favoritas}\")\n",
        "print(f\"\\nMis marcas complementarias son \\n{marcas_complementarias}\")"
      ],
      "metadata": {
        "id": "rBVBq-zZ7jUz",
        "outputId": "077732f4-00a0-479f-dbf0-07548ca15194",
        "colab": {
          "base_uri": "https://localhost:8080/"
        }
      },
      "execution_count": 6,
      "outputs": [
        {
          "output_type": "stream",
          "name": "stdout",
          "text": [
            "Mi lista de marcas son \n",
            "['apple', 'hp', 'ferrari', 'dell', 'toyota', 'coca_cola']\n",
            "\n",
            "Mis marcas favoritas son \n",
            "['apple', 'hp', 'ferrari']\n",
            "\n",
            "Mis marcas complementarias son \n",
            "['dell', 'toyota', 'coca_cola']\n"
          ]
        }
      ]
    },
    {
      "cell_type": "code",
      "source": [
        "# El símbolo \"+\" me sirve para concatenar listas\n",
        "print(f\"Mi lista de marcas son \\n{marcas_favoritas + marcas_complementarias}\")\n",
        "print(f\"\\nMis marcas favoritas son \\n{marcas_favoritas}\")\n",
        "print(f\"\\nMis marcas complementarias son \\n{marcas_complementarias}\")"
      ],
      "metadata": {
        "id": "3BNHRxbr8mw4",
        "outputId": "d21d9937-8cf3-4910-ad19-6cd6bb18b6a8",
        "colab": {
          "base_uri": "https://localhost:8080/"
        }
      },
      "execution_count": 7,
      "outputs": [
        {
          "output_type": "stream",
          "name": "stdout",
          "text": [
            "Mi lista de marcas son \n",
            "['apple', 'hp', 'ferrari', 'dell', 'toyota', 'coca_cola']\n",
            "\n",
            "Mis marcas favoritas son \n",
            "['apple', 'hp', 'ferrari']\n",
            "\n",
            "Mis marcas complementarias son \n",
            "['dell', 'toyota', 'coca_cola']\n"
          ]
        }
      ]
    },
    {
      "cell_type": "code",
      "source": [
        "# El símbolo \"+\" me sirve para concatenar listas\n",
        "print(f\"Mi lista de marcas son \\n{marcas_favoritas + marcas_complementarias}\")\n",
        "print(f\"\\nMis marcas favoritas son \\n{marcas_favoritas}\")\n",
        "print(f\"\\nMis marcas complementarias son \\n{marcas_complementarias}\")"
      ],
      "metadata": {
        "id": "ac7jSmZN9nBE",
        "outputId": "1e39f3ff-6ac7-4bfc-d84b-eeee6a5ec3fb",
        "colab": {
          "base_uri": "https://localhost:8080/"
        }
      },
      "execution_count": 8,
      "outputs": [
        {
          "output_type": "stream",
          "name": "stdout",
          "text": [
            "Mi lista de marcas son \n",
            "['apple', 'hp', 'ferrari', 'dell', 'toyota', 'coca_cola']\n",
            "\n",
            "Mis marcas favoritas son \n",
            "['apple', 'hp', 'ferrari']\n",
            "\n",
            "Mis marcas complementarias son \n",
            "['dell', 'toyota', 'coca_cola']\n"
          ]
        }
      ]
    },
    {
      "cell_type": "code",
      "source": [
        "# Listas numéricas\n",
        "numeros_ = [10, 20]\n",
        "numeros_2 = list(range(30,300,10))"
      ],
      "metadata": {
        "id": "2PZilOiM_B5g"
      },
      "execution_count": 9,
      "outputs": []
    },
    {
      "cell_type": "code",
      "source": [
        "print(f\"La lista de valores numéricos es \\n{numeros_}\")\n",
        "numeros_.extend(numeros_2)\n",
        "print(f\"\\nLa lista de valores numéricos es \\n{numeros_}\")"
      ],
      "metadata": {
        "id": "3ir2xSMT_vpL",
        "outputId": "58d042bc-f4df-49b2-964a-352328b10757",
        "colab": {
          "base_uri": "https://localhost:8080/"
        }
      },
      "execution_count": 10,
      "outputs": [
        {
          "output_type": "stream",
          "name": "stdout",
          "text": [
            "La lista de valores numéricos es \n",
            "[10, 20]\n",
            "\n",
            "La lista de valores numéricos es \n",
            "[10, 20, 30, 40, 50, 60, 70, 80, 90, 100, 110, 120, 130, 140, 150, 160, 170, 180, 190, 200, 210, 220, 230, 240, 250, 260, 270, 280, 290]\n"
          ]
        }
      ]
    },
    {
      "cell_type": "markdown",
      "source": [
        "opraciones numericas on las listas"
      ],
      "metadata": {
        "id": "_D5dWVf-_ehW"
      }
    },
    {
      "cell_type": "code",
      "source": [
        "# Cuantificar la cantidad de elementos de una lista\n",
        "len(numeros_)"
      ],
      "metadata": {
        "id": "Q6auBIab_kZp",
        "outputId": "844f4d70-1303-4c8f-f2be-42c0e031ce80",
        "colab": {
          "base_uri": "https://localhost:8080/"
        }
      },
      "execution_count": 11,
      "outputs": [
        {
          "output_type": "execute_result",
          "data": {
            "text/plain": [
              "29"
            ]
          },
          "metadata": {},
          "execution_count": 11
        }
      ]
    },
    {
      "cell_type": "code",
      "source": [
        "print(f\"La suma de los elementos de la lista es \\n{sum(numeros_)}\")\n",
        "print(f\"El promedio de los elementos de la lista es \\n{sum(numeros_)/len(numeros_)}\")\n",
        "print(f\"El mínimo de los elementos de la lista es \\n{min(numeros_)}\")\n",
        "print(f\"El máximo de los elementos de la lista es \\n{max(numeros_)}\")"
      ],
      "metadata": {
        "id": "txTql-vlABXH",
        "outputId": "34a27e7e-c5f3-4682-cd70-2558765264b7",
        "colab": {
          "base_uri": "https://localhost:8080/"
        }
      },
      "execution_count": 12,
      "outputs": [
        {
          "output_type": "stream",
          "name": "stdout",
          "text": [
            "La suma de los elementos de la lista es \n",
            "4350\n",
            "El promedio de los elementos de la lista es \n",
            "150.0\n",
            "El mínimo de los elementos de la lista es \n",
            "10\n",
            "El máximo de los elementos de la lista es \n",
            "290\n"
          ]
        }
      ]
    },
    {
      "cell_type": "code",
      "source": [
        "a = [1,2,3]\n",
        "b = [4,5,6]\n",
        "c = [7,8,9]\n",
        "r = [a, b, c]\n",
        "print(f\"La lista a es \\n{a}\")\n",
        "print(f\"La lista b es \\n{b}\")\n",
        "print(f\"La lista c es \\n{c}\")\n",
        "print(f\"\\nLa lista de listas es \\n{r}\")"
      ],
      "metadata": {
        "id": "E1AttYdeD2os",
        "outputId": "80896ff1-7373-47b9-bacf-f62afb1a2f6d",
        "colab": {
          "base_uri": "https://localhost:8080/"
        }
      },
      "execution_count": 14,
      "outputs": [
        {
          "output_type": "stream",
          "name": "stdout",
          "text": [
            "La lista a es \n",
            "[1, 2, 3]\n",
            "La lista b es \n",
            "[4, 5, 6]\n",
            "La lista c es \n",
            "[7, 8, 9]\n",
            "\n",
            "La lista de listas es \n",
            "[[1, 2, 3], [4, 5, 6], [7, 8, 9]]\n"
          ]
        }
      ]
    },
    {
      "cell_type": "code",
      "source": [
        "print(f\"El primer elemento de la lista r es \\n{r[0]}\")"
      ],
      "metadata": {
        "id": "6Su5PJ7yE5mg",
        "outputId": "d54cb719-862b-4a84-9d26-c29c73a5f420",
        "colab": {
          "base_uri": "https://localhost:8080/"
        }
      },
      "execution_count": 15,
      "outputs": [
        {
          "output_type": "stream",
          "name": "stdout",
          "text": [
            "El primer elemento de la lista r es \n",
            "[1, 2, 3]\n"
          ]
        }
      ]
    },
    {
      "cell_type": "code",
      "source": [
        "print(f\"El tercer elemento de la lista r es \\n{r[2]}\")"
      ],
      "metadata": {
        "id": "jWh-a2_UFSSA",
        "outputId": "e1489777-b029-48ed-9b4e-f6c78c4edadf",
        "colab": {
          "base_uri": "https://localhost:8080/"
        }
      },
      "execution_count": 16,
      "outputs": [
        {
          "output_type": "stream",
          "name": "stdout",
          "text": [
            "El tercer elemento de la lista r es \n",
            "[7, 8, 9]\n"
          ]
        }
      ]
    },
    {
      "cell_type": "code",
      "source": [
        "print(f\"El tercer del tercer elemento de la lista r es \\n{r[2][2]}\")"
      ],
      "metadata": {
        "id": "8he7TX94FXrv",
        "outputId": "b9e1068a-81f4-4bdc-8194-49d245b4533f",
        "colab": {
          "base_uri": "https://localhost:8080/"
        }
      },
      "execution_count": 17,
      "outputs": [
        {
          "output_type": "stream",
          "name": "stdout",
          "text": [
            "El tercer del tercer elemento de la lista r es \n",
            "9\n"
          ]
        }
      ]
    },
    {
      "cell_type": "code",
      "source": [
        "print(f\"El tercer elemento del tercer elemento de la lista r es \\n{r[-1][-1]}\")"
      ],
      "metadata": {
        "id": "DByouR_iFmPx",
        "outputId": "d19da8f8-16c4-475f-f432-6ecb8b6002e2",
        "colab": {
          "base_uri": "https://localhost:8080/"
        }
      },
      "execution_count": 18,
      "outputs": [
        {
          "output_type": "stream",
          "name": "stdout",
          "text": [
            "El tercer elemento del tercer elemento de la lista r es \n",
            "9\n"
          ]
        }
      ]
    },
    {
      "cell_type": "code",
      "source": [
        "list(\"Edgar\")"
      ],
      "metadata": {
        "id": "5A0CHT1UF97S",
        "outputId": "ea899082-2e79-4f97-a542-07a14463f1a0",
        "colab": {
          "base_uri": "https://localhost:8080/"
        }
      },
      "execution_count": 20,
      "outputs": [
        {
          "output_type": "execute_result",
          "data": {
            "text/plain": [
              "['E', 'd', 'g', 'a', 'r']"
            ]
          },
          "metadata": {},
          "execution_count": 20
        }
      ]
    },
    {
      "cell_type": "code",
      "source": [
        "numeros = list(range(12,201,2))\n",
        "print (numeros)"
      ],
      "metadata": {
        "id": "JDa9qtLyKxjQ",
        "outputId": "72f1551c-342e-497c-ca13-a15d3293bc06",
        "colab": {
          "base_uri": "https://localhost:8080/"
        }
      },
      "execution_count": 22,
      "outputs": [
        {
          "output_type": "stream",
          "name": "stdout",
          "text": [
            "[12, 14, 16, 18, 20, 22, 24, 26, 28, 30, 32, 34, 36, 38, 40, 42, 44, 46, 48, 50, 52, 54, 56, 58, 60, 62, 64, 66, 68, 70, 72, 74, 76, 78, 80, 82, 84, 86, 88, 90, 92, 94, 96, 98, 100, 102, 104, 106, 108, 110, 112, 114, 116, 118, 120, 122, 124, 126, 128, 130, 132, 134, 136, 138, 140, 142, 144, 146, 148, 150, 152, 154, 156, 158, 160, 162, 164, 166, 168, 170, 172, 174, 176, 178, 180, 182, 184, 186, 188, 190, 192, 194, 196, 198, 200]\n"
          ]
        }
      ]
    },
    {
      "cell_type": "code",
      "source": [
        "print(f\"La lista inicial es \\n{numeros}\")\n",
        "elemento1 = numeros.pop(0)\n",
        "elemento2 = numeros.pop(-1)\n",
        "print(f\"La lista actualizada es \\n{numeros}\")\n",
        "print(f\"Los elementos eliminados de la lista son {elemento1, elemento2 }\")"
      ],
      "metadata": {
        "id": "Q2cSNMmtLPOi",
        "outputId": "484fa34e-0183-4129-ae50-589edd54fd49",
        "colab": {
          "base_uri": "https://localhost:8080/"
        }
      },
      "execution_count": 25,
      "outputs": [
        {
          "output_type": "stream",
          "name": "stdout",
          "text": [
            "La lista inicial es \n",
            "[16, 18, 20, 22, 24, 26, 28, 30, 32, 34, 36, 38, 40, 42, 44, 46, 48, 50, 52, 54, 56, 58, 60, 62, 64, 66, 68, 70, 72, 74, 76, 78, 80, 82, 84, 86, 88, 90, 92, 94, 96, 98, 100, 102, 104, 106, 108, 110, 112, 114, 116, 118, 120, 122, 124, 126, 128, 130, 132, 134, 136, 138, 140, 142, 144, 146, 148, 150, 152, 154, 156, 158, 160, 162, 164, 166, 168, 170, 172, 174, 176, 178, 180, 182, 184, 186, 188, 190, 192, 194, 196]\n",
            "La lista actualizada es \n",
            "[18, 20, 22, 24, 26, 28, 30, 32, 34, 36, 38, 40, 42, 44, 46, 48, 50, 52, 54, 56, 58, 60, 62, 64, 66, 68, 70, 72, 74, 76, 78, 80, 82, 84, 86, 88, 90, 92, 94, 96, 98, 100, 102, 104, 106, 108, 110, 112, 114, 116, 118, 120, 122, 124, 126, 128, 130, 132, 134, 136, 138, 140, 142, 144, 146, 148, 150, 152, 154, 156, 158, 160, 162, 164, 166, 168, 170, 172, 174, 176, 178, 180, 182, 184, 186, 188, 190, 192, 194]\n",
            "Los elementos eliminados de la lista son (16, 196)\n"
          ]
        }
      ]
    },
    {
      "cell_type": "code",
      "source": [
        "from IPython.display import Image, display\n",
        "# Mostrar la imagen en Colab\n",
        "display(Image(filename='Act001_Python.png'))"
      ],
      "metadata": {
        "id": "5f9eZlUWNwaq"
      },
      "execution_count": null,
      "outputs": []
    },
    {
      "cell_type": "code",
      "source": [
        "## Actividad 1\n",
        "## 1.1\n",
        "lista_x = list(range(12,201,2)) # 12: punto de partida, 201: punta de parada (no está incluído), 2: saltos\n",
        "print(f\"La lista ingresada es \\n{lista_x}\")"
      ],
      "metadata": {
        "id": "3bHUEgGPOQne",
        "outputId": "75aeaf72-acb2-431d-a1f3-00297d4a5617",
        "colab": {
          "base_uri": "https://localhost:8080/"
        }
      },
      "execution_count": 28,
      "outputs": [
        {
          "output_type": "stream",
          "name": "stdout",
          "text": [
            "La lista ingresada es \n",
            "[12, 14, 16, 18, 20, 22, 24, 26, 28, 30, 32, 34, 36, 38, 40, 42, 44, 46, 48, 50, 52, 54, 56, 58, 60, 62, 64, 66, 68, 70, 72, 74, 76, 78, 80, 82, 84, 86, 88, 90, 92, 94, 96, 98, 100, 102, 104, 106, 108, 110, 112, 114, 116, 118, 120, 122, 124, 126, 128, 130, 132, 134, 136, 138, 140, 142, 144, 146, 148, 150, 152, 154, 156, 158, 160, 162, 164, 166, 168, 170, 172, 174, 176, 178, 180, 182, 184, 186, 188, 190, 192, 194, 196, 198, 200]\n"
          ]
        }
      ]
    },
    {
      "cell_type": "code",
      "source": [
        "## Actividad 1\n",
        "## 1.2\n",
        "numeros_eliminados = [lista_x.pop(0),lista_x.pop()]\n",
        "print(f\"La lista de elementos eliminados es \\n{numeros_eliminados}\")"
      ],
      "metadata": {
        "id": "OZjdY-KePBOz",
        "outputId": "3902d56b-2558-427f-cb74-06b04faae91b",
        "colab": {
          "base_uri": "https://localhost:8080/"
        }
      },
      "execution_count": 29,
      "outputs": [
        {
          "output_type": "stream",
          "name": "stdout",
          "text": [
            "La lista de elementos eliminados es \n",
            "[12, 200]\n"
          ]
        }
      ]
    },
    {
      "cell_type": "code",
      "source": [
        "## Actividad 1\n",
        "## 1.2\n",
        "numeros_eliminados = [lista_x.pop(0),lista_x.pop()]\n",
        "## 1.3\n",
        "print(f\"La lista de elementos eliminados es \\n{numeros_eliminados}\")"
      ],
      "metadata": {
        "id": "3qhn3yT2PQh9"
      },
      "execution_count": null,
      "outputs": []
    },
    {
      "cell_type": "code",
      "source": [
        "## Actividad 1\n",
        "## 1.4\n",
        "print(f\"El valor mínimo de la lista es {min(lista_x)}\")\n",
        "print(f\"El valor máximo de la lista es {max(lista_x)}\")"
      ],
      "metadata": {
        "id": "-7lAIXR1PThj",
        "outputId": "efe57793-feae-4615-b860-b618ad220ec7",
        "colab": {
          "base_uri": "https://localhost:8080/"
        }
      },
      "execution_count": 30,
      "outputs": [
        {
          "output_type": "stream",
          "name": "stdout",
          "text": [
            "El valor mínimo de la lista es 14\n",
            "El valor máximo de la lista es 198\n"
          ]
        }
      ]
    },
    {
      "cell_type": "code",
      "source": [
        "## Actividad N001\n",
        "# Nota\n",
        "lista_x = [] # Define la lista vacía\n",
        "i = 12 # Elemento punto de partida\n",
        "while i<201:\n",
        "  lista_x.append(i)\n",
        "  i+=2\n",
        "print(f\"La lista ingresada es \\n{lista_x}\")"
      ],
      "metadata": {
        "id": "OSg_20OATLqi",
        "outputId": "d89e35fd-3827-42b8-fbe5-1729a0e96946",
        "colab": {
          "base_uri": "https://localhost:8080/"
        }
      },
      "execution_count": 31,
      "outputs": [
        {
          "output_type": "stream",
          "name": "stdout",
          "text": [
            "La lista ingresada es \n",
            "[12, 14, 16, 18, 20, 22, 24, 26, 28, 30, 32, 34, 36, 38, 40, 42, 44, 46, 48, 50, 52, 54, 56, 58, 60, 62, 64, 66, 68, 70, 72, 74, 76, 78, 80, 82, 84, 86, 88, 90, 92, 94, 96, 98, 100, 102, 104, 106, 108, 110, 112, 114, 116, 118, 120, 122, 124, 126, 128, 130, 132, 134, 136, 138, 140, 142, 144, 146, 148, 150, 152, 154, 156, 158, 160, 162, 164, 166, 168, 170, 172, 174, 176, 178, 180, 182, 184, 186, 188, 190, 192, 194, 196, 198, 200]\n"
          ]
        }
      ]
    },
    {
      "cell_type": "code",
      "source": [
        "## Actividad N002\n",
        "# 2.1\n",
        "n = int(input(\"Ingrese el número de elementos de la lista a crear:\"))\n",
        "# Explicación de crear una lista de valores seguidos\n",
        "lista_y = [] # Crear una lista vacía\n",
        "i = 0\n",
        "while i<n:\n",
        "  print(i)\n",
        "  i += 1\n",
        "print(\"Fin.\")"
      ],
      "metadata": {
        "id": "vylPnQfOU00C",
        "outputId": "8810ef36-0a79-4d97-b52f-ef690c2fd25c",
        "colab": {
          "base_uri": "https://localhost:8080/"
        }
      },
      "execution_count": 33,
      "outputs": [
        {
          "output_type": "stream",
          "name": "stdout",
          "text": [
            "Ingrese el número de elementos de la lista a crear:5\n",
            "0\n",
            "1\n",
            "2\n",
            "3\n",
            "4\n",
            "Fin.\n"
          ]
        }
      ]
    },
    {
      "cell_type": "code",
      "source": [
        "## 2.2 y 2.3\n",
        "lista_y = [] # Crear una lista vacía\n",
        "i = 0 # inicializar en cero\n",
        "while i<n:\n",
        "  lista_y.append(int(input(f\"Ingrese el valor {i+1} de la lista: \")))\n",
        "  i+=1\n",
        "print(f\"La lista con los valores ingresados es: \\n{lista_y}\")"
      ],
      "metadata": {
        "id": "QEUk8jbFV6QI",
        "outputId": "63514f83-1daa-4b55-97f0-16771fa9ceec",
        "colab": {
          "base_uri": "https://localhost:8080/"
        }
      },
      "execution_count": 34,
      "outputs": [
        {
          "output_type": "stream",
          "name": "stdout",
          "text": [
            "Ingrese el valor 1 de la lista: 4\n",
            "Ingrese el valor 2 de la lista: 2\n",
            "Ingrese el valor 3 de la lista: 5\n",
            "Ingrese el valor 4 de la lista: 7\n",
            "Ingrese el valor 5 de la lista: 5\n",
            "La lista con los valores ingresados es: \n",
            "[4, 2, 5, 7, 5]\n"
          ]
        }
      ]
    },
    {
      "cell_type": "code",
      "source": [
        "print(f\"El valor mínimo de la lista es {min(lista_y)}\")\n",
        "print(f\"El valor máximo de la lista es {max(lista_y)}\")\n",
        "print(f\"El promedio de los elementos de la lista es {sum(lista_y)/len(lista_y)}\")"
      ],
      "metadata": {
        "id": "WEQJlp_SXFup",
        "outputId": "d7189119-a115-40e4-88f2-2740c065709e",
        "colab": {
          "base_uri": "https://localhost:8080/"
        }
      },
      "execution_count": 35,
      "outputs": [
        {
          "output_type": "stream",
          "name": "stdout",
          "text": [
            "El valor mínimo de la lista es 2\n",
            "El valor máximo de la lista es 7\n",
            "El promedio de los elementos de la lista es 4.6\n"
          ]
        }
      ]
    },
    {
      "cell_type": "code",
      "source": [
        "## Actividad N003\n",
        "# Nota ingrese lista\n",
        "lista_x = [\"A\", \"B\",\"b\",\"c\",\"E\",\"E\",\"f\"]\n",
        "print (lista_x)"
      ],
      "metadata": {
        "id": "Vd5qL0VCXf3b",
        "outputId": "183a7d19-7629-4ceb-ab47-cf389bec3f1d",
        "colab": {
          "base_uri": "https://localhost:8080/"
        }
      },
      "execution_count": 37,
      "outputs": [
        {
          "output_type": "stream",
          "name": "stdout",
          "text": [
            "['A', 'B', 'b', 'c', 'E', 'E', 'f']\n"
          ]
        }
      ]
    },
    {
      "cell_type": "code",
      "source": [
        "# Apartado 3.1\n",
        "lista_x = [\"A\", \"B\", \"b\", \"c\", \"E\", \"E\", \"f\"]\n",
        "print(\"Lista inicial:\", lista_x)\n",
        "# Apartado 3.2\n",
        "elemento_eliminar = input(\"Ingrese el elemento que desea eliminar: \")\n",
        "# Apartado 3.3\n",
        "if elemento_eliminar in lista_x:\n",
        "    lista_x.remove(elemento_eliminar)\n",
        "    print(f\"Elemento eliminado: {elemento_eliminar}\")\n",
        "else:\n",
        "    print(f\"El elemento '{elemento_eliminar}' no está en la lista.\")\n",
        "print(\"Lista resultante:\", lista_x)"
      ],
      "metadata": {
        "id": "eXEVSfHgbG7D",
        "outputId": "3760f6c2-ffed-4925-e5e7-c51f9c7d055c",
        "colab": {
          "base_uri": "https://localhost:8080/"
        }
      },
      "execution_count": 39,
      "outputs": [
        {
          "output_type": "stream",
          "name": "stdout",
          "text": [
            "Lista inicial: ['A', 'B', 'b', 'c', 'E', 'E', 'f']\n",
            "Ingrese el elemento que desea eliminar: A\n",
            "Elemento eliminado: A\n",
            "Lista resultante: ['B', 'b', 'c', 'E', 'E', 'f']\n"
          ]
        }
      ]
    }
  ]
}